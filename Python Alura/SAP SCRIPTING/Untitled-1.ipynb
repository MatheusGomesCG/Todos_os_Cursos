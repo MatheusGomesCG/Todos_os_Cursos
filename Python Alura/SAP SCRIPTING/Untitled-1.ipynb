{
 "cells": [
  {
   "cell_type": "markdown",
   "metadata": {},
   "source": [
    "Conectando o SAP no Python"
   ]
  },
  {
   "cell_type": "code",
   "execution_count": 18,
   "metadata": {},
   "outputs": [],
   "source": [
    "import win32com.client\n",
    "\n",
    "SapGuiAuto  = win32com.client.GetObject(\"SAPGUI\")\n",
    "application = SapGuiAuto.GetScriptingEngine\n",
    "connection = application.Children(0)\n",
    "session = connection.Children(0)\n",
    "\n",
    "\n",
    "session.findById(\"wnd[0]/tbar[0]/okcd\").text = \"IW47\"\n",
    "session.findById(\"wnd[0]\").sendVKey(0)\n",
    "session.findById(\"wnd[0]/usr/chkDY_IAR\").selected = True\n",
    "session.findById(\"wnd[0]/usr/chkDY_ABG\").selected = True\n",
    "session.findById(\"wnd[0]/usr/chkNO_CANC\").selected = True\n",
    "session.findById(\"wnd[0]/usr/ctxtERSDA_C-LOW\").text = \"\"\n",
    "session.findById(\"wnd[0]/usr/ctxtERSDA_C-HIGH\").text = \"\"\n",
    "session.findById(\"wnd[0]/usr/ctxtIEDD_C-LOW\").text = \"01.11.2023\"\n",
    "session.findById(\"wnd[0]/usr/ctxtIEDD_C-HIGH\").text = \"13.11.2023\"\n",
    "session.findById(\"wnd[0]/usr/ctxtVARIANT\").text = \"/ISABELA\"\n",
    "session.findById(\"wnd[0]/usr/ctxtVARIANT\").setFocus\n",
    "session.findById(\"wnd[0]/usr/ctxtVARIANT\").caretPosition = 8\n",
    "session.findById(\"wnd[0]/usr/btn%_PERNR_C_%_APP_%-VALU_PUSH\").press()\n",
    "session.findById(\"wnd[1]/usr/tabsTAB_STRIP/tabpSIVA/ssubSCREEN_HEADER:SAPLALDB:3010/tblSAPLALDBSINGLE/ctxtRSCSEL_255-SLOW_I[1,0]\").text = \"6165874\"\n",
    "session.findById(\"wnd[1]/usr/tabsTAB_STRIP/tabpSIVA/ssubSCREEN_HEADER:SAPLALDB:3010/tblSAPLALDBSINGLE/ctxtRSCSEL_255-SLOW_I[1,1]\").text = \"6099395\"\n",
    "session.findById(\"wnd[1]/usr/tabsTAB_STRIP/tabpSIVA/ssubSCREEN_HEADER:SAPLALDB:3010/tblSAPLALDBSINGLE/ctxtRSCSEL_255-SLOW_I[1,2]\").text = \"6099430\"\n",
    "session.findById(\"wnd[1]/usr/tabsTAB_STRIP/tabpSIVA/ssubSCREEN_HEADER:SAPLALDB:3010/tblSAPLALDBSINGLE/ctxtRSCSEL_255-SLOW_I[1,3]\").text = \"6168043\"\n",
    "session.findById(\"wnd[1]/usr/tabsTAB_STRIP/tabpSIVA/ssubSCREEN_HEADER:SAPLALDB:3010/tblSAPLALDBSINGLE/ctxtRSCSEL_255-SLOW_I[1,4]\").text = \"6155317\"\n",
    "session.findById(\"wnd[1]/usr/tabsTAB_STRIP/tabpSIVA/ssubSCREEN_HEADER:SAPLALDB:3010/tblSAPLALDBSINGLE/ctxtRSCSEL_255-SLOW_I[1,5]\").text = \"6099384\"\n",
    "session.findById(\"wnd[1]/usr/tabsTAB_STRIP/tabpSIVA/ssubSCREEN_HEADER:SAPLALDB:3010/tblSAPLALDBSINGLE/ctxtRSCSEL_255-SLOW_I[1,6]\").text = \"6147986\"\n",
    "session.findById(\"wnd[1]/usr/tabsTAB_STRIP/tabpSIVA/ssubSCREEN_HEADER:SAPLALDB:3010/tblSAPLALDBSINGLE/ctxtRSCSEL_255-SLOW_I[1,6]\").setFocus\n",
    "session.findById(\"wnd[1]/usr/tabsTAB_STRIP/tabpSIVA/ssubSCREEN_HEADER:SAPLALDB:3010/tblSAPLALDBSINGLE/ctxtRSCSEL_255-SLOW_I[1,6]\").caretPosition = 7\n",
    "session.findById(\"wnd[1]\").sendVKey(0)\n",
    "session.findById(\"wnd[1]/tbar[0]/btn[8]\").press()\n",
    "session.findById(\"wnd[0]/tbar[1]/btn[8]\").press()\n",
    "session.findById(\"wnd[0]/mbar/menu[0]/menu[6]\").select()\n",
    "session.findById(\"wnd[1]/tbar[0]/btn[0]\").press()\n",
    "session.findById(\"wnd[1]/usr/subSUBSCREEN_STEPLOOP:SAPLSPO5:0150/sub:SAPLSPO5:0150/radSPOPLI-SELFLAG[0,0]\").select()\n",
    "session.findById(\"wnd[1]/usr/subSUBSCREEN_STEPLOOP:SAPLSPO5:0150/sub:SAPLSPO5:0150/radSPOPLI-SELFLAG[0,0]\").setFocus\n",
    "session.findById(\"wnd[1]/tbar[0]/btn[0]\").press()\n",
    "session.findById(\"wnd[1]/tbar[0]/btn[0]\").press()\n",
    "session.findById(\"wnd[0]/tbar[0]/btn[3]\").press()\n",
    "session.findById(\"wnd[0]/tbar[0]/btn[3]\").press()"
   ]
  }
 ],
 "metadata": {
  "kernelspec": {
   "display_name": "Python 3",
   "language": "python",
   "name": "python3"
  },
  "language_info": {
   "codemirror_mode": {
    "name": "ipython",
    "version": 3
   },
   "file_extension": ".py",
   "mimetype": "text/x-python",
   "name": "python",
   "nbconvert_exporter": "python",
   "pygments_lexer": "ipython3",
   "version": "3.11.6"
  }
 },
 "nbformat": 4,
 "nbformat_minor": 2
}
